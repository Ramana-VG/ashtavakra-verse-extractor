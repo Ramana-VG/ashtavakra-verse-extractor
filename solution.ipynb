{
 "cells": [
  {
   "cell_type": "code",
   "execution_count": 1,
   "id": "ce3d1e53",
   "metadata": {},
   "outputs": [],
   "source": [
    "import re\n",
    "import json\n",
    "import requests"
   ]
  },
  {
   "cell_type": "code",
   "execution_count": 22,
   "id": "5c4f74e8",
   "metadata": {},
   "outputs": [],
   "source": [
    "# Download the content directly from the link\n",
    "url = \"https://gretil.sub.uni-goettingen.de/gretil/corpustei/transformations/plaintext/sa_aSTAvakragItA.txt\"\n",
    "response = requests.get(url)\n",
    "text = response.text"
   ]
  },
  {
   "cell_type": "code",
   "execution_count": 23,
   "id": "4cdebb85",
   "metadata": {},
   "outputs": [
    {
     "name": "stdout",
     "output_type": "stream",
     "text": [
      "ṃ dakṣo nāstīha matsamaḥ \n",
      "asaṃspṛśya śarīreṇa yena viśvaṃ ciraṃ dhṛtam // Avg_2.13\n",
      "\n",
      "aho ahaṃ namo mahyaṃ yasya me nāsti kiṃcana \n",
      "athavā yasya me sarvaṃ yad vāṅmanasagocaram // Avg_2.14\n",
      "\n",
      "jñānaṃ jñeyaṃ tathā jñātā tritayaṃ nāsti vāstavam \n",
      "ajñānād bhāti yatredaṃ so 'ham asmi nirañjanaḥ // Avg_2.15\n",
      "\n",
      "dvaitamūlam aho duḥkhaṃ nānyat tasyāsti bheṣajam \n",
      "dṛśyam etan mṛṣā sarvaṃ eko 'haṃ cidraso 'malaḥ // Avg_2.16\n",
      "\n",
      "bodhamātro 'ham ajñānād upadhiḥ kalpito mayā \n",
      "evaṃ vimṛśato nityaṃ nirvikalpe sthitir mama /\n"
     ]
    }
   ],
   "source": [
    "print(text[5000:5500])  # Print the first 1000 characters to check the content"
   ]
  },
  {
   "cell_type": "code",
   "execution_count": 24,
   "id": "a536e465",
   "metadata": {},
   "outputs": [],
   "source": [
    "# Split text into lines\n",
    "lines = text.splitlines()"
   ]
  },
  {
   "cell_type": "code",
   "execution_count": 32,
   "id": "f9006f01",
   "metadata": {},
   "outputs": [],
   "source": [
    "# Storage for verses\n",
    "verses = []"
   ]
  },
  {
   "cell_type": "code",
   "execution_count": 33,
   "id": "89caedaa",
   "metadata": {},
   "outputs": [],
   "source": [
    "# Regex to match the verse ending\n",
    "pattern = re.compile(r\"(.*?)\\s*//\\s*Avg_(\\d+\\.\\d+)\")"
   ]
  },
  {
   "cell_type": "code",
   "execution_count": 34,
   "id": "731d315c",
   "metadata": {},
   "outputs": [],
   "source": [
    "for i in range(1, len(lines)):\n",
    "    line = lines[i].strip()\n",
    "    match = pattern.search(line)\n",
    "\n",
    "    if match:\n",
    "        current_line_content = match.group(1).strip()\n",
    "        index = match.group(2).strip()\n",
    "        previous_line = lines[i - 1].strip()\n",
    "\n",
    "        full_verse = f\"{previous_line}\\n {current_line_content}\"\n",
    "        verses.append({\n",
    "            \"verse\": full_verse,\n",
    "            \"index\": index\n",
    "        })"
   ]
  },
  {
   "cell_type": "code",
   "execution_count": 39,
   "id": "eca795e3",
   "metadata": {},
   "outputs": [
    {
     "name": "stdout",
     "output_type": "stream",
     "text": [
      "[{'verse': \"kathaṃ jñānam avāpto 'ti kathaṃ muktir bhaviṣyati\\n vairāgyaṃ ca kathaṃ prāptam etad brūhi mama prabho\", 'index': '1.1'}, {'verse': 'muktim icchasi cet tāta viṣayān viṣavat tyaja\\n kṣamārjavadayātoṣasatyaṃ pīyūṣavad bhaja', 'index': '1.2'}, {'verse': 'na pṛthvī na jalaṃ nāgnir na vāyur dyaur na vā bhavān\\n eṣāṃ sākṣiṇam ātmānaṃ cidrūpaṃ viddhi muktaye', 'index': '1.3'}, {'verse': 'yadi dehaṃ pṛthak kṛtya citi viśrāmya tiṣṭhasi\\n adhunaiva sukhī śānto bandhamukto bhaviṣyasi', 'index': '1.4'}, {'verse': \"na tvaṃ viprādiko varṇo nāśramī nākṣagocaraḥ\\n asaṅgo 'si nirākāro viśvasākṣī sukhī bhava\", 'index': '1.5'}]\n"
     ]
    }
   ],
   "source": [
    "print(verses[0:5])  # Print the first 5 verses to check the extraction"
   ]
  },
  {
   "cell_type": "code",
   "execution_count": 37,
   "id": "cb637d41",
   "metadata": {},
   "outputs": [],
   "source": [
    "# Save output\n",
    "with open(\"output.json\", \"w\", encoding=\"utf-8\") as f:\n",
    "    json.dump(verses, f, indent=4, ensure_ascii=False)"
   ]
  },
  {
   "cell_type": "code",
   "execution_count": 38,
   "id": "fa465ed8",
   "metadata": {},
   "outputs": [
    {
     "name": "stdout",
     "output_type": "stream",
     "text": [
      "✅ Extracted 298 verses.\n"
     ]
    }
   ],
   "source": [
    "print(f\"✅ Extracted {len(verses)} verses.\")"
   ]
  }
 ],
 "metadata": {
  "kernelspec": {
   "display_name": "base",
   "language": "python",
   "name": "python3"
  },
  "language_info": {
   "codemirror_mode": {
    "name": "ipython",
    "version": 3
   },
   "file_extension": ".py",
   "mimetype": "text/x-python",
   "name": "python",
   "nbconvert_exporter": "python",
   "pygments_lexer": "ipython3",
   "version": "3.11.7"
  }
 },
 "nbformat": 4,
 "nbformat_minor": 5
}
